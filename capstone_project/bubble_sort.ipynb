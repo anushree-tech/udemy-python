{
 "cells": [
  {
   "cell_type": "markdown",
   "metadata": {
    "collapsed": true
   },
   "source": [
    "# Bubble Sort"
   ]
  },
  {
   "cell_type": "markdown",
   "metadata": {},
   "source": [
    "Bubble sort, sometimes referred to as sinking sort, is a simple sorting algorithm that repeatedly steps through the list, compares adjacent elements and swaps them if they are in the wrong order. The pass through the list is repeated until the list is sorted. The algorithm, which is a comparison sort, is named for the way smaller or larger elements \"bubble\" to the top of the list."
   ]
  },
  {
   "cell_type": "code",
   "execution_count": 13,
   "metadata": {},
   "outputs": [
    {
     "name": "stdout",
     "output_type": "stream",
     "text": [
      "Please enter the array you want to sort : 1 7 9 2 8 3 6\n",
      "Original list : [1, 7, 9, 2, 8, 3, 6]\n",
      "Sorted list : [1, 2, 3, 6, 7, 8, 9]\n"
     ]
    }
   ],
   "source": [
    "def bubblesort(arr):\n",
    "    swap = 0\n",
    "    for j in range(len(arr)-1):\n",
    "        for i in range(len(arr)-1):\n",
    "            if arr[i]>arr[i+1]:\n",
    "                swap= arr[i]\n",
    "                arr[i]=arr[i+1]\n",
    "                arr[i+1]= swap\n",
    "            \n",
    "    return arr\n",
    "            \n",
    "array = input(\"Please enter the array you want to sort : \")\n",
    "array_list = [int(num) for num in array.split()]\n",
    "print(\"Original list : {}\".format(array_list))\n",
    "print(\"Sorted list : {}\".format(bubblesort(array_list)))\n"
   ]
  },
  {
   "cell_type": "code",
   "execution_count": null,
   "metadata": {},
   "outputs": [],
   "source": []
  },
  {
   "cell_type": "code",
   "execution_count": null,
   "metadata": {},
   "outputs": [],
   "source": []
  }
 ],
 "metadata": {
  "kernelspec": {
   "display_name": "Python 3",
   "language": "python",
   "name": "python3"
  },
  "language_info": {
   "codemirror_mode": {
    "name": "ipython",
    "version": 3
   },
   "file_extension": ".py",
   "mimetype": "text/x-python",
   "name": "python",
   "nbconvert_exporter": "python",
   "pygments_lexer": "ipython3",
   "version": "3.7.4"
  }
 },
 "nbformat": 4,
 "nbformat_minor": 1
}
