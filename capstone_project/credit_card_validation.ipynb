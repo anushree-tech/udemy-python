{
 "cells": [
  {
   "cell_type": "markdown",
   "metadata": {
    "collapsed": true
   },
   "source": [
    "# Credit Card Validation\n"
   ]
  },
  {
   "cell_type": "code",
   "execution_count": null,
   "metadata": {},
   "outputs": [],
   "source": [
    "cc = str(input(\"Enter a credit card number to validate (Mastercard, Visa, Discover, Amex only): \"))\n"
   ]
  },
  {
   "cell_type": "code",
   "execution_count": null,
   "metadata": {},
   "outputs": [],
   "source": [
    "def val_cc(number):\n",
    "    cc_rev = number[::-1]\n",
    "    total = 0\n",
    "    for i in cc_rev[1::2]:\n",
    "        x = int(i)*2\n",
    "        if len(str(x)) == 2:\n",
    "            for a in str(x):\n",
    "                total += int(a)\n",
    "        else:\n",
    "            total += int(x)\n",
    "  \n",
    "    for i in cc_rev[::2]:\n",
    "        total += int(i)\n",
    "\n",
    "    return total"
   ]
  },
  {
   "cell_type": "code",
   "execution_count": null,
   "metadata": {},
   "outputs": [],
   "source": [
    "if (int(cc[:2]) >= 51 and int(cc[:2]) <= 55 and len(cc) == 16) or \\\n",
    "    (int(cc[0]) == 4 and (len(cc) == 13 or len(cc) == 16)) or \\\n",
    "    ((int(cc[:2]) == 34 or int(cc[:2]) == 37) and len(cc) == 15) or \\\n",
    "    (int(cc[:4]) == 6011 and len(cc) == 16):\n",
    "    if val_cc(cc) % 10 == 0:\n",
    "        print (\"%s is a valid credit card number\" % cc)\n",
    "    else:\n",
    "      print (\"%s is NOT a valid credit card number\" % cc)\n",
    "else:\n",
    "    print (\"%s is NOT a valid credit card number\" % cc)"
   ]
  }
 ],
 "metadata": {
  "kernelspec": {
   "display_name": "Python 3",
   "language": "python",
   "name": "python3"
  },
  "language_info": {
   "codemirror_mode": {
    "name": "ipython",
    "version": 3
   },
   "file_extension": ".py",
   "mimetype": "text/x-python",
   "name": "python",
   "nbconvert_exporter": "python",
   "pygments_lexer": "ipython3",
   "version": "3.7.4"
  }
 },
 "nbformat": 4,
 "nbformat_minor": 1
}
