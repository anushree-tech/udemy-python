{
 "cells": [
  {
   "cell_type": "markdown",
   "metadata": {
    "collapsed": true
   },
   "source": [
    "# Quick Sort"
   ]
  },
  {
   "cell_type": "markdown",
   "metadata": {},
   "source": [
    "Quicksort is a divide-and-conquer algorithm. It works by selecting a 'pivot' element from the array and partitioning the other elements into two sub-arrays, according to whether they are less than or greater than the pivot. The sub-arrays are then sorted recursively. "
   ]
  },
  {
   "cell_type": "code",
   "execution_count": 1,
   "metadata": {},
   "outputs": [
    {
     "name": "stdout",
     "output_type": "stream",
     "text": [
      "Please enter the array you want to sort : 1 5 2 7 3 8 \n",
      "Original list : [1, 5, 2, 7, 3, 8]\n",
      "Sorted list : [1, 2, 3, 5, 7, 8]\n"
     ]
    }
   ],
   "source": [
    "import random\n",
    "\n",
    "def merge(arr_list1,arr_list2):\n",
    "    res=[]\n",
    "    while arr_list1 and arr_list2:\n",
    "        if arr_list1[0]<= arr_list2[0]:\n",
    "            res.append(arr_list1.pop(0))\n",
    "        else:\n",
    "            res.append(arr_list2.pop(0))\n",
    "    res.extend(arr_list1)\n",
    "    res .extend(arr_list2)\n",
    "    return res\n",
    "            \n",
    "        \n",
    "def quicksort(array_list):\n",
    "    if len(array_list)<=1:\n",
    "        return array_list\n",
    "    r = array_list[random.randint(0, len(array_list) - 1)]\n",
    "    left,mid,right = [],[],[]\n",
    "    for num in array_list:\n",
    "        if num < r:\n",
    "            left.append(num)\n",
    "        elif num == r:\n",
    "            mid.append(num)\n",
    "        else:\n",
    "            right.append(num)\n",
    "    left = quicksort(left)\n",
    "    left.extend(mid)\n",
    "    right = quicksort(right)\n",
    "    res = merge(left,right)\n",
    "    return res\n",
    "\n",
    "array = input(\"Please enter the array you want to sort : \")\n",
    "array_list = [int(num) for num in array.split()]\n",
    "print(\"Original list : {}\".format(array_list))\n",
    "print(\"Sorted list : {}\".format(quicksort(array_list)))\n"
   ]
  },
  {
   "cell_type": "code",
   "execution_count": null,
   "metadata": {},
   "outputs": [],
   "source": []
  }
 ],
 "metadata": {
  "kernelspec": {
   "display_name": "Python 3",
   "language": "python",
   "name": "python3"
  },
  "language_info": {
   "codemirror_mode": {
    "name": "ipython",
    "version": 3
   },
   "file_extension": ".py",
   "mimetype": "text/x-python",
   "name": "python",
   "nbconvert_exporter": "python",
   "pygments_lexer": "ipython3",
   "version": "3.7.4"
  }
 },
 "nbformat": 4,
 "nbformat_minor": 1
}
