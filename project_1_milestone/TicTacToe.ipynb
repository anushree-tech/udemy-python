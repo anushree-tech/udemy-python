{
 "cells": [
  {
   "cell_type": "code",
   "execution_count": 1,
   "metadata": {},
   "outputs": [],
   "source": [
    "from IPython.display import clear_output\n",
    "def displayboard():\n",
    "    '''\n",
    "    Input     : None\n",
    "    Output    : None \n",
    "    Purpose   : Display the board with Marks\n",
    "    '''\n",
    "    clear_output()  #  this only works in jupyter!\n",
    "    \n",
    "   \n",
    "    print(\n",
    "                     '\\t'+board[7] +'|\\t'+  board[8] +'|\\t'+ board[9]\n",
    "        +    \"\\n--------------------------\\n\"+\n",
    "                     '\\t'+board[4] +'|\\t'+  board[5] +'|\\t'+ board[6]\n",
    "         +   \"\\n--------------------------\\n\"+\n",
    "                     '\\t'+board[1] +'|\\t'+  board[2] +'|\\t'+ board[3]\n",
    "             )\n",
    "    \n"
   ]
  },
  {
   "cell_type": "code",
   "execution_count": 2,
   "metadata": {},
   "outputs": [],
   "source": [
    "def playermark():\n",
    "    '''\n",
    "    Input     : None\n",
    "    Output    : (player1_mark,player2_mark) \n",
    "    Purpose   : Assign marks to players\n",
    "    '''\n",
    "    \n",
    "    \n",
    "    player1_mark = input(\"Player 1 what mark do you want O or X ?\")\n",
    "    if player1_mark == 'O':\n",
    "        player2_mark= 'X'\n",
    "    elif player1_mark =='X':\n",
    "        player2_mark= 'O'\n",
    "    return (player1_mark,player2_mark)\n",
    "        \n"
   ]
  },
  {
   "cell_type": "code",
   "execution_count": 3,
   "metadata": {},
   "outputs": [],
   "source": [
    "def chance(mark,player):\n",
    "    '''\n",
    "    Input     : (mark,player)\n",
    "    Output    : None \n",
    "    Purpose   : Assign mark to the position specified on board\n",
    "    '''\n",
    "    position = int(input(\"Player {}: Please give the position on which you want to make your mark: \".format(player)))\n",
    "    while position in pos_used:\n",
    "        print(\"This position is already marked. Please select any other position\")\n",
    "        position = int(input(\"Player : Please give the position on which you want to make your mark: \"))\n",
    "    if position not in pos_used:\n",
    "        board[position]= mark\n",
    "        pos_used.append(position)\n",
    "    \n",
    "    \n",
    "    \n",
    "    \n",
    "    "
   ]
  },
  {
   "cell_type": "code",
   "execution_count": 4,
   "metadata": {},
   "outputs": [],
   "source": [
    "def checkwin(player_num):\n",
    "    '''\n",
    "    Input     : (player_num)\n",
    "    Output    : None \n",
    "    Purpose   : Check if any player won the game\n",
    "    '''\n",
    "    global game\n",
    "    if (board[1]==board[2]==board[3]!= ' ') or (board[4]==board[5]==board[6]!= ' ') or (board[7]==board[8]==board[9]!= ' ') or (board[1]==board[5]==board[9]!= ' ') or (board[7]==board[5]==board[3]!= ' ') or (board[1]==board[4]==board[7]!= ' ' or (board[2]==board[5]==board[8]!= ' ') or  (board[3]==board[6]==board[9]!= ' ')):\n",
    "        print('\\nPlayer {} wins!!\\n Game over'.format(player_num))\n",
    "        game = False\n",
    "        \n",
    "    elif len(pos_used)==9:\n",
    "        print(\"\\nGame over!! It is a tie :-)\")\n",
    "        \n",
    "            \n",
    "    "
   ]
  },
  {
   "cell_type": "code",
   "execution_count": 5,
   "metadata": {},
   "outputs": [],
   "source": [
    "def replay():\n",
    "    '''\n",
    "    Input     : (player_num)\n",
    "    Output    : None \n",
    "    Purpose   : Ask if player wants to replay\n",
    "    '''\n",
    "    return input(\"\\nDo you want to play again Y or N ?\").upper()\n",
    "    \n",
    "    \n",
    "    \n",
    "    \n",
    "    "
   ]
  },
  {
   "cell_type": "code",
   "execution_count": 6,
   "metadata": {
    "scrolled": true
   },
   "outputs": [
    {
     "name": "stdout",
     "output_type": "stream",
     "text": [
      "\t |\t |\tO\n",
      "--------------------------\n",
      "\t |\tO|\t \n",
      "--------------------------\n",
      "\tO|\tX|\tX\n",
      "\n",
      "Player 1 wins!!\n",
      " Game over\n",
      "\n",
      "Do you want to play again Y or N ?N\n",
      "\n",
      "Thanks for playing. Bye !!\n"
     ]
    }
   ],
   "source": [
    "'''\n",
    "TIC TAC TOE GAME\n",
    "'''\n",
    "\n",
    "while True:\n",
    "    print(\"Hi!! This is Tic Tac Toe, a two player game\\n\")\n",
    "    print(\"You have to select mark O or X and provide the position on which you want it. If your mark alligns in a straight line you win. Best of Luck!!\")\n",
    "    print(\"Below is your board with positions\\n\")\n",
    "\n",
    "    print(\n",
    "                     '\\t'+'7' +'|\\t'+  '8' +'|\\t'+ '9'\n",
    "        +    \"\\n--------------------------\\n\"+\n",
    "                     '\\t'+'4' +'|\\t'+  '5' +'|\\t'+ '6'\n",
    "         +   \"\\n--------------------------\\n\"+\n",
    "                     '\\t'+'1' +'|\\t'+  '2' +'|\\t'+ '3'\n",
    "             )\n",
    "    board = ['S',' ',' ',' ',' ',' ',' ',' ',' ',' ','F']\n",
    "    pos_used =[]\n",
    "\n",
    "    player1_mark,player2_mark = playermark()\n",
    "    \n",
    "    game = True\n",
    "    \n",
    "    while game is True:\n",
    "        chance(player1_mark,1)\n",
    "        displayboard()\n",
    "        checkwin(1)\n",
    "        if game == True:\n",
    "            chance(player2_mark,2)\n",
    "            displayboard()\n",
    "            checkwin(2)\n",
    "\n",
    "    play= replay()\n",
    "    if play =='N':\n",
    "        print(\"\\nThanks for playing. Bye !!\")\n",
    "        \n",
    "        \n",
    "        \n",
    "        break\n",
    "\n",
    "\n",
    "\n",
    "\n"
   ]
  }
 ],
 "metadata": {
  "kernelspec": {
   "display_name": "Python 3",
   "language": "python",
   "name": "python3"
  },
  "language_info": {
   "codemirror_mode": {
    "name": "ipython",
    "version": 3
   },
   "file_extension": ".py",
   "mimetype": "text/x-python",
   "name": "python",
   "nbconvert_exporter": "python",
   "pygments_lexer": "ipython3",
   "version": "3.7.4"
  }
 },
 "nbformat": 4,
 "nbformat_minor": 2
}
